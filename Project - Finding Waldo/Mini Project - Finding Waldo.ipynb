{
 "cells": [
  {
   "cell_type": "markdown",
   "metadata": {},
   "source": [
    "### Mini Project - Finding Waldo "
   ]
  },
  {
   "cell_type": "code",
   "execution_count": 3,
   "metadata": {},
   "outputs": [],
   "source": [
    "import cv2\n",
    "import numpy as np\n",
    "\n",
    "# load our main image and greyscales the image\n",
    "image = cv2.imread(r'C:\\Users\\princ\\Documents\\Mini openCV projects\\image_for_computer_vision\\WaldoBeach.jpg')\n",
    "cv2.imshow('Can you find Waldo', image)\n",
    "cv2.waitKey(0)\n",
    "grey_img = cv2.cvtColor(image, cv2.COLOR_BGR2GRAY)\n",
    "\n",
    "# load our template or smaller image\n",
    "template_img = cv2.imread(r'C:\\Users\\princ\\Documents\\Mini openCV projects\\image_for_computer_vision\\Waldo.jpg',0)\n",
    "\n",
    "\n",
    "# finds our template image in the main or larger image\n",
    "# this is done using; \"cv2.matchTemplate\" function.\n",
    "# the args are ; \"cv2.mzinTemplate(main_img, template_img, template matching method)\".\n",
    "# Also note that before using this function, we will first greyscale the image.\n",
    "result = cv2.matchTemplate(grey_img, template_img, cv2.TM_CCOEFF)\n",
    "\n",
    "# gives us the bounding box or cord  that waldo was found in and assign the array elements respectively to the var used\n",
    "min_val, max_val, min_loc, max_loc = cv2.minMaxLoc(result)\n",
    "\n",
    "# creates the Bounding Box using one of the var used above\n",
    "top_left = max_loc\n",
    "bottom_right = (top_left[0]+270, top_left[1]+270)\n",
    "cv2.rectangle(image, top_left, bottom_right, (0,255,0), 6)\n",
    "\n",
    "cv2.imshow('Can you now see Waldo?', image)\n",
    "cv2.waitKey()\n",
    "cv2.destroyAllWindows()"
   ]
  },
  {
   "cell_type": "code",
   "execution_count": null,
   "metadata": {},
   "outputs": [],
   "source": []
  }
 ],
 "metadata": {
  "kernelspec": {
   "display_name": "Python 3 (ipykernel)",
   "language": "python",
   "name": "python3"
  },
  "language_info": {
   "codemirror_mode": {
    "name": "ipython",
    "version": 3
   },
   "file_extension": ".py",
   "mimetype": "text/x-python",
   "name": "python",
   "nbconvert_exporter": "python",
   "pygments_lexer": "ipython3",
   "version": "3.9.12"
  }
 },
 "nbformat": 4,
 "nbformat_minor": 4
}
