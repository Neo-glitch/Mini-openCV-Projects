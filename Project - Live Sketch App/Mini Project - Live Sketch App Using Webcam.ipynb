{
 "cells": [
  {
   "cell_type": "markdown",
   "metadata": {},
   "source": [
    "### Mini Project - Live Sketch app using webcam"
   ]
  },
  {
   "cell_type": "code",
   "execution_count": 1,
   "metadata": {},
   "outputs": [],
   "source": [
    "import cv2\n",
    "import numpy as np\n",
    "\n",
    "\n",
    "def sketch(image):\n",
    "    \"\"\"\n",
    "    creates the live sketch of the webcam feed\n",
    "    \"\"\"\n",
    "    # Converts image to a greyscale image\n",
    "    img_grey = cv2.cvtColor(image, cv2.COLOR_BGR2GRAY)\n",
    "    \n",
    "    # cleans up the image using the Gaussian Blur filter\n",
    "    img_grey_blur = cv2.GaussianBlur(img_grey, (3, 3), 0)\n",
    "    \n",
    "    # extracts the image edges using the Canny edge detection algorithm\n",
    "    # we take the blurred greyscale image as our image. this is also a good practice in edge detection\n",
    "    # our lower thresh is 20 and our upper thresh is 60\n",
    "    canny_edges = cv2.Canny(img_grey_blur,20, 60)\n",
    "    \n",
    "    # Does an invert binarize on the image\n",
    "    ret, mask = cv2.threshold(canny_edges, 60, 255, cv2.THRESH_BINARY_INV)\n",
    "    return mask\n",
    "\n",
    "\n",
    "# cv2.videocapture() is the function that intializes the webcam\n",
    "# cap.read pulls out an image from our webcam but if ran in a loop\n",
    "# it keeps pulling out images, thereby making it work as a video capture.\n",
    "# the \"ret\" of the cap.read is a boolean that returns true if the video capture was succesful, but the main stuff is the frame var.\n",
    "# the frame var is what we assign to the skecth function\n",
    "\n",
    "cap = cv2.VideoCapture(0)\n",
    "\n",
    "while 1:\n",
    "    ret, frame = cap.read()\n",
    "    cv2.imshow('Our Live skecth app', sketch(frame))\n",
    "    # 13 represent the Enter Key, that is after specifying in the waitKey that we want to use a specific key to end the program by using \"1\" in the parenthesis\n",
    "    # if it was \"waitKey(0) then we have to keep pressing any key to continue streaming from our webcam\"\n",
    "    if cv2.waitKey(1) == 13:           \n",
    "        break\n",
    "\n",
    "# Release camera and close windows\n",
    "# also helps in avoiding errors and also a must for this program\n",
    "cap.release()\n",
    "cv2.destroyAllWindows()"
   ]
  },
  {
   "cell_type": "code",
   "execution_count": null,
   "metadata": {},
   "outputs": [],
   "source": []
  }
 ],
 "metadata": {
  "kernelspec": {
   "display_name": "Python 3 (ipykernel)",
   "language": "python",
   "name": "python3"
  },
  "language_info": {
   "codemirror_mode": {
    "name": "ipython",
    "version": 3
   },
   "file_extension": ".py",
   "mimetype": "text/x-python",
   "name": "python",
   "nbconvert_exporter": "python",
   "pygments_lexer": "ipython3",
   "version": "3.9.12"
  }
 },
 "nbformat": 4,
 "nbformat_minor": 4
}
