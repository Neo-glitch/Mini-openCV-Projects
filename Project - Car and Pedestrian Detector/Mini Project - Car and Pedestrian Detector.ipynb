{
 "cells": [
  {
   "cell_type": "markdown",
   "metadata": {},
   "source": [
    "### Mini Project - Car and Pedestrian Detection "
   ]
  },
  {
   "cell_type": "code",
   "execution_count": 4,
   "metadata": {
    "scrolled": true
   },
   "outputs": [
    {
     "name": "stdout",
     "output_type": "stream",
     "text": [
      "C:\\Users\\princ\\anaconda3\\python.exe\n"
     ]
    }
   ],
   "source": [
    "# code that helps us to know where our python.exe file is located.\n",
    "import sys\n",
    "print(sys.executable) "
   ]
  },
  {
   "cell_type": "markdown",
   "metadata": {},
   "source": [
    "**Pedestrian Detection**"
   ]
  },
  {
   "cell_type": "code",
   "execution_count": 5,
   "metadata": {},
   "outputs": [],
   "source": [
    "import cv2\n",
    "import numpy as np\n",
    "\n",
    "# creates our body classifier object\n",
    "body_classifier = cv2.CascadeClassifier(r'C:\\Users\\princ\\Documents\\Mini openCV projects\\haarcascades\\haarcascade_fullbody.xml')\n",
    "\n",
    "# initiates the Video Capture of a video file.\n",
    "cap = cv2.VideoCapture(r'C:\\Users\\princ\\Documents\\Mini openCV projects\\image_for_computer_vision\\Walking.avi')\n",
    "\n",
    "\n",
    "while True:\n",
    "    ret, frame = cap.read()\n",
    "    # note: the fx and fy specifies that we want a new image that is three-quarter or 75% the height and width of the original image\n",
    "    frame = cv2.resize(frame, None, fx=0.75, fy=0.75)\n",
    "    \n",
    "    grey_img = cv2.cvtColor(frame, cv2.COLOR_BGR2GRAY)\n",
    "    \n",
    "    # pass the frame to our body classifier\n",
    "    bodies = body_classifier.detectMultiScale(grey_img, 1.3,3)\n",
    "    \n",
    "    # code that extract bounding boxes for any bodies identified and draws a rectangle on them.\n",
    "    for (x,y,w,h) in bodies:\n",
    "        cv2.rectangle(frame, (x,y), (x+w, y+h), (255,0,0),3)\n",
    "        cv2.imshow('Pedestrian Dectector', frame)\n",
    "        \n",
    "    if cv2.waitKey(1) == 13:\n",
    "        break\n",
    "        \n",
    "cap.release()\n",
    "cv2.destroyAllWindows()"
   ]
  },
  {
   "cell_type": "markdown",
   "metadata": {},
   "source": [
    "**Car Detection**"
   ]
  },
  {
   "cell_type": "code",
   "execution_count": 3,
   "metadata": {},
   "outputs": [],
   "source": [
    "import cv2\n",
    "import numpy as np\n",
    "import time\n",
    "\n",
    "# code that creates our car classifier object\n",
    "car_classifier = cv2.CascadeClassifier(r'C:\\Users\\princ\\Documents\\Mini openCV projects\\haarcascades\\haarcascade_car.xml')\n",
    "\n",
    "# code that initiates the video caoture of our video file\n",
    "cap = cv2.VideoCapture(r'C:\\Users\\princ\\Documents\\Mini openCV projects\\image_for_computer_vision\\cars.avi')\n",
    "\n",
    "# Loop once the video is loaded.\n",
    "while True:\n",
    "    # makes program sleep for 0.005 seconds inorder to regulate the framerate\n",
    "    time.sleep(0.005)\n",
    "    # code that reads the frame and grey_scales it\n",
    "    ret, frame = cap.read()\n",
    "    \n",
    "    frame = cv2.resize(frame, None, fx=1.3, fy=1.3, interpolation = cv2.INTER_LINEAR)\n",
    "    \n",
    "    grey_img = cv2.cvtColor(frame, cv2.COLOR_BGR2GRAY)\n",
    "    \n",
    "    # code that passes the frame to our classifier\n",
    "    cars = car_classifier.detectMultiScale(grey_img, 1.4,2)\n",
    "    \n",
    "    \n",
    "    \n",
    "    # code that extracts the Bounding box of any car found and draws a rectangle over them.\n",
    "    for (x,y,w,h) in cars:\n",
    "        counter = cv2.rectangle(frame, (x,y), (x+w, y+h), (0,0,255), 2)\n",
    "        cv2.imshow('Cars Dectection', frame)\n",
    "        \n",
    "        \n",
    "    \n",
    "    if cv2.waitKey(1) == 13:\n",
    "        break\n",
    "        \n",
    "cap.release()\n",
    "cv2.destroyAllWindows()"
   ]
  },
  {
   "cell_type": "code",
   "execution_count": null,
   "metadata": {},
   "outputs": [],
   "source": []
  }
 ],
 "metadata": {
  "kernelspec": {
   "display_name": "Python 3 (ipykernel)",
   "language": "python",
   "name": "python3"
  },
  "language_info": {
   "codemirror_mode": {
    "name": "ipython",
    "version": 3
   },
   "file_extension": ".py",
   "mimetype": "text/x-python",
   "name": "python",
   "nbconvert_exporter": "python",
   "pygments_lexer": "ipython3",
   "version": "3.9.12"
  }
 },
 "nbformat": 4,
 "nbformat_minor": 4
}
