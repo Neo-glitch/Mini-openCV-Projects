{
 "cells": [
  {
   "cell_type": "markdown",
   "metadata": {},
   "source": [
    "### Mini Project - Face Recognition"
   ]
  },
  {
   "cell_type": "markdown",
   "metadata": {},
   "source": [
    "**Step 1 - Creating the Training Data**"
   ]
  },
  {
   "cell_type": "code",
   "execution_count": 4,
   "metadata": {},
   "outputs": [
    {
     "name": "stderr",
     "output_type": "stream",
     "text": [
      "<>:16: SyntaxWarning: \"is\" with a literal. Did you mean \"==\"?\n",
      "<>:16: SyntaxWarning: \"is\" with a literal. Did you mean \"==\"?\n",
      "C:\\Users\\princ\\AppData\\Local\\Temp\\ipykernel_16532\\3475965116.py:16: SyntaxWarning: \"is\" with a literal. Did you mean \"==\"?\n",
      "  if faces is ():\n"
     ]
    },
    {
     "name": "stdout",
     "output_type": "stream",
     "text": [
      "Collection of the sample faces has been completed\n"
     ]
    }
   ],
   "source": [
    "import cv2\n",
    "import numpy as np\n",
    "import os\n",
    "import shutil\n",
    "\n",
    "# loads the HAAR face classifier\n",
    "face_classifier = cv2.CascadeClassifier(r'C:\\Users\\princ\\Documents\\Mini openCV projects\\haarcascades\\haarcascade_frontalface_default.xml')\n",
    "\n",
    "\n",
    "def face_extractor(img):\n",
    "    \"\"\"\n",
    "    Detects faces and returns the faces cropped out of the img passed.\n",
    "    If no face is found,  it returns None\n",
    "    \"\"\"\n",
    "    gray = cv2.cvtColor(img, cv2.COLOR_BGR2GRAY)\n",
    "    faces = face_classifier.detectMultiScale(gray, 1.1, 4)\n",
    "    \n",
    "    if faces is ():\n",
    "        return None\n",
    "    \n",
    "    # crops all faces found\n",
    "    for (x,y,w,h) in faces:\n",
    "        cropped_face = img[y:y+h, x:x+w]\n",
    "        \n",
    "    return cropped_face\n",
    "\n",
    "# initializes the webcam\n",
    "cap = cv2.VideoCapture(0)\n",
    "\n",
    "# params\n",
    "count = 0\n",
    "n_samples = 100\n",
    "\n",
    "# collects n_samples of our face from the webcam input\n",
    "while True:\n",
    "    ret, frame = cap.read()\n",
    "    if face_extractor(frame) is not None:\n",
    "        count += 1\n",
    "        face = cv2.resize(face_extractor(frame), (400, 400))\n",
    "        face = cv2.cvtColor(face, cv2.COLOR_BGR2GRAY)\n",
    "        \n",
    "        # code that saves the file in a specified dir with a unique name\n",
    "        file_name_path = r\"C:\\\\Users\\\\princ\\\\Documents\\\\Mini openCV projects\\\\faces\\\\user\\\\\" + str(count) + \".jpg\"\n",
    "        cv2.imwrite(file_name_path, face)\n",
    "        \n",
    "        # code that puts count on the image and display the live count\n",
    "        cv2.putText(face, str(count), (50, 50), cv2.FONT_HERSHEY_COMPLEX, 1, (0, 255, 0), 2)\n",
    "        cv2.imshow('Face Cropper', face)\n",
    "        \n",
    "    else:\n",
    "        print('Face not Found')\n",
    "        pass\n",
    "    \n",
    "    if cv2.waitKey(1) == 13 or count == n_samples:\n",
    "        break\n",
    "        \n",
    "cap.release()\n",
    "cv2.destroyAllWindows()\n",
    "print ('Collection of the sample faces has been completed')"
   ]
  },
  {
   "cell_type": "markdown",
   "metadata": {},
   "source": [
    "**step 2 - Train the Model**"
   ]
  },
  {
   "cell_type": "code",
   "execution_count": 6,
   "metadata": {},
   "outputs": [
    {
     "name": "stdout",
     "output_type": "stream",
     "text": [
      "The models have been trained successfully\n"
     ]
    }
   ],
   "source": [
    "import cv2\n",
    "import numpy as np\n",
    "from os import listdir\n",
    "from os.path import isfile, join\n",
    "\n",
    "# gets the training data that we made\n",
    "data_path = r'C:\\\\Users\\\\princ\\\\Documents\\\\Mini openCV projects\\\\faces\\\\user\\\\'\n",
    "onlyfiles = [f for f in listdir(data_path) if isfile(join(data_path, f))]\n",
    "\n",
    "\n",
    "Training_Data, Labels = [], []\n",
    "\n",
    "\n",
    "# creates a numpy array for training data and labels\n",
    "for i, files in enumerate(onlyfiles):\n",
    "    image_path = data_path + onlyfiles[i]\n",
    "    images = cv2.imread(image_path, cv2.IMREAD_GRAYSCALE)\n",
    "    Training_Data.append(np.asarray(images, dtype=np.uint8))\n",
    "    Labels.append(i)\n",
    "    \n",
    "# creates a numpy array for training data and Labels\n",
    "Labels = np.asarray(Labels, dtype = np.uint64)\n",
    "\n",
    "# initializes our facial recognizer\n",
    "model = cv2.face.LBPHFaceRecognizer_create()\n",
    "\n",
    "# trains our model\n",
    "model.train(np.asarray(Training_Data), np.asarray(Labels))\n",
    "print('The models have been trained successfully')"
   ]
  },
  {
   "cell_type": "markdown",
   "metadata": {},
   "source": [
    "**step 3 - Runs our facial Recognition Software**"
   ]
  },
  {
   "cell_type": "code",
   "execution_count": 12,
   "metadata": {},
   "outputs": [
    {
     "name": "stderr",
     "output_type": "stream",
     "text": [
      "<>:11: SyntaxWarning: \"is\" with a literal. Did you mean \"==\"?\n",
      "<>:11: SyntaxWarning: \"is\" with a literal. Did you mean \"==\"?\n",
      "C:\\Users\\princ\\AppData\\Local\\Temp\\ipykernel_16532\\48766145.py:11: SyntaxWarning: \"is\" with a literal. Did you mean \"==\"?\n",
      "  if faces is ():\n"
     ]
    }
   ],
   "source": [
    "import cv2\n",
    "import numpy as np\n",
    "\n",
    "face_classifier = cv2.CascadeClassifier(r'C:\\Users\\princ\\Documents\\Mini openCV projects\\haarcascades\\haarcascade_frontalface_default.xml')\n",
    "\n",
    "# function that extracts the face gotten from the image from the webcam\n",
    "def face_detector(img, size= 0.5):\n",
    "    # converts image to greyscale\n",
    "    gray = cv2.cvtColor(img,cv2.COLOR_BGR2GRAY)\n",
    "    faces = face_classifier.detectMultiScale(gray, 1.2, 4)\n",
    "    if faces is ():\n",
    "        return img, []\n",
    "    \n",
    "    for (x, y, w, h) in faces:\n",
    "        cv2.rectangle(img, (x, y), (x+w, y+h), (0, 255, 255), 2)\n",
    "        roi = img[y:y+h, x:x+w]\n",
    "        roi = cv2.resize(roi,(200, 200))\n",
    "    return img, roi\n",
    "\n",
    "\n",
    "# opens the webcam\n",
    "cap = cv2.VideoCapture(0)\n",
    "\n",
    "while 1:\n",
    "    ret, frame = cap.read()\n",
    "    image, face = face_detector(frame)\n",
    "    \n",
    "    try:\n",
    "        face = cv2.cvtColor(face, cv2.COLOR_BGR2GRAY)\n",
    "        \n",
    "        # passes the extracted face to the model for prediction\n",
    "        # 'results' comprises of a tuple containing the Label and the confidence value.\n",
    "        results = model.predict(face)\n",
    "        \n",
    "        if results[1] < 500:\n",
    "            \n",
    "            confidence = int(100 * (1 - (results[1])/300) )\n",
    "            display_string = str(confidence) + '% confident it is the owner'\n",
    "            cv2.putText(image, display_string, (100, 120), cv2.FONT_HERSHEY_COMPLEX, 1, (255, 120, 150), 2)\n",
    "        \n",
    "            if confidence > 70:\n",
    "                cv2.putText(image, 'Unlocked', (250, 450), cv2.FONT_HERSHEY_COMPLEX, 1, (0, 255, 0), 2)\n",
    "                cv2.imshow('Face_Cropper', image)\n",
    "            else:\n",
    "                cv2.putText(image, 'Locked', (250, 450), cv2.FONT_HERSHEY_COMPLEX, 1, (0,0,255), 2)\n",
    "                cv2.imshow('Face_Cropper', image)\n",
    "    except:\n",
    "        cv2.putText(image, 'No Face Found', (220, 120), cv2.FONT_HERSHEY_COMPLEX, 1, (0, 0, 255), 2)\n",
    "        cv2.putText(image, 'Locked', (250, 450), cv2.FONT_HERSHEY_COMPLEX, 1, (0,0, 255), 2)\n",
    "        cv2.imshow('Face_Cropper', image)\n",
    "        pass\n",
    "    \n",
    "    if cv2.waitKey(1) == 13:\n",
    "        break\n",
    "    \n",
    "cap.release()\n",
    "cv2.destroyAllWindows()"
   ]
  },
  {
   "cell_type": "code",
   "execution_count": null,
   "metadata": {},
   "outputs": [],
   "source": []
  }
 ],
 "metadata": {
  "kernelspec": {
   "display_name": "Python 3 (ipykernel)",
   "language": "python",
   "name": "python3"
  },
  "language_info": {
   "codemirror_mode": {
    "name": "ipython",
    "version": 3
   },
   "file_extension": ".py",
   "mimetype": "text/x-python",
   "name": "python",
   "nbconvert_exporter": "python",
   "pygments_lexer": "ipython3",
   "version": "3.9.12"
  }
 },
 "nbformat": 4,
 "nbformat_minor": 4
}
