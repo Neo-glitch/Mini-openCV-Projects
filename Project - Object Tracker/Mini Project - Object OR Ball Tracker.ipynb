{
 "cells": [
  {
   "cell_type": "markdown",
   "metadata": {},
   "source": [
    "### Mini Project - Object Tracking"
   ]
  },
  {
   "cell_type": "markdown",
   "metadata": {},
   "source": [
    "OpenCV 2.7.X only"
   ]
  },
  {
   "cell_type": "code",
   "execution_count": 8,
   "metadata": {},
   "outputs": [],
   "source": [
    "import cv2\n",
    "import numpy as np\n",
    "\n",
    "\n",
    "# defines the color purple range in HSV\n",
    "lower_purple = np.array([130, 50, 90])\n",
    "upper_purple = np.array([170, 255, 255])\n",
    "\n",
    "# creates an empty array that stores our points\n",
    "points = []\n",
    "\n",
    "kernel = (3, 3)\n",
    "frame_count = 0"
   ]
  },
  {
   "cell_type": "code",
   "execution_count": 12,
   "metadata": {},
   "outputs": [],
   "source": [
    "# code that initializes the webcam\n",
    "cap = cv2.VideoCapture(0)\n",
    "\n",
    "# get default cam window size\n",
    "ret, frame = cap.read()\n",
    "Height, Width = frame.shape[:2]\n",
    "\n",
    "\n",
    "\n",
    "while True:\n",
    "    \n",
    "    ret, frame = cap.read()\n",
    "    hsv_img = cv2.cvtColor(frame, cv2.COLOR_BGR2HSV)\n",
    "    \n",
    "    # threshold the hsv images to track only object in  purle colors\n",
    "    mask = cv2.inRange(hsv_img, lower_purple, upper_purple)\n",
    "    mask = cv2.morphologyEx(mask, cv2.MORPH_OPEN, kernel)     \n",
    "    contours, _ = cv2.findContours(mask.copy(), cv2.RETR_EXTERNAL, cv2.CHAIN_APPROX_SIMPLE)\n",
    "    \n",
    "    # creates an empty array to store the centroid of mass\n",
    "    center = int(Height/2), int(Width/2)\n",
    "    \n",
    "    # countours is found\n",
    "    if len(contours) > 0:\n",
    "        \n",
    "        # gets the largest contour using area and its center\n",
    "        c = max(contours, key=cv2.contourArea)                 \n",
    "        (x, y), radius = cv2.minEnclosingCircle(c)\n",
    "        M = cv2.moments(c)\n",
    "        try:\n",
    "            center = (int(M['m10'] / M['m00']), int(M['m01'] / M['m00']))\n",
    "        except:\n",
    "            center = int(Height/2), int(Width/2)\n",
    "        \n",
    "        # Takes only contours that have larger than 18 pixel radius\n",
    "        if radius > 18:\n",
    "            # Draw Circle and leace the last center creating a trail\n",
    "            cv2.circle(frame, (int(x), int(y)), int(radius), (0,0,255), 2)\n",
    "            cv2.circle(frame, center, 5, (0, 255, 0), -1)\n",
    "            \n",
    "        # logs the center points\n",
    "        points.append(center)\n",
    "            \n",
    "        # Code that loops over the set of tracked points with radius pixel greater than 18\n",
    "        if radius > 18:\n",
    "            for i in range(1, len(points)):\n",
    "                try:\n",
    "                    cv2.line(frame, points[i - 1], points[i], (0, 255, 0), 2)\n",
    "                except:\n",
    "                    pass\n",
    "            frame_count = 0\n",
    "                \n",
    "    else:\n",
    "        frame_count += 1\n",
    "                \n",
    "        # clears trails everytime our object has been out for 10 frames\n",
    "        if frame_count == 10:\n",
    "            points = []\n",
    "            frame_count = 0\n",
    "                    \n",
    "                    \n",
    "    # cturns image into a mirror like view\n",
    "    frame = cv2.flip(frame, 1)\n",
    "    cv2.imshow('Object OR Ball Tracker', frame)\n",
    "    \n",
    "    cv2.imshow(\"mask\", mask)\n",
    "            \n",
    "    if cv2.waitKey(1) == 13:\n",
    "        break\n",
    "                \n",
    "cap.release()\n",
    "cv2.destroyAllWindows()\n",
    "                    "
   ]
  },
  {
   "cell_type": "code",
   "execution_count": null,
   "metadata": {},
   "outputs": [],
   "source": []
  }
 ],
 "metadata": {
  "kernelspec": {
   "display_name": "Python 3 (ipykernel)",
   "language": "python",
   "name": "python3"
  },
  "language_info": {
   "codemirror_mode": {
    "name": "ipython",
    "version": 3
   },
   "file_extension": ".py",
   "mimetype": "text/x-python",
   "name": "python",
   "nbconvert_exporter": "python",
   "pygments_lexer": "ipython3",
   "version": "3.9.12"
  }
 },
 "nbformat": 4,
 "nbformat_minor": 4
}
